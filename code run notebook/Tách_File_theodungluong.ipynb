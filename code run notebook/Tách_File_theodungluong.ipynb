{
  "nbformat": 4,
  "nbformat_minor": 0,
  "metadata": {
    "colab": {
      "provenance": []
    },
    "kernelspec": {
      "name": "python3",
      "display_name": "Python 3"
    },
    "language_info": {
      "name": "python"
    }
  },
  "cells": [
    {
      "cell_type": "code",
      "source": [
        "# Bước 1: Cài đặt thư viện PyPDF2\n",
        "!pip install PyPDF2\n",
        "\n",
        "# Bước 2: Mount Google Drive\n",
        "from google.colab import drive\n",
        "drive.mount('/content/drive')\n",
        "\n",
        "# Bước 3: Đường dẫn tới file PDF cần tách (đổi nếu cần)\n",
        "pdf_path = \"/content/drive/MyDrive/Colab Notebooks/file_can_tach.pdf\"\n"
      ],
      "metadata": {
        "colab": {
          "base_uri": "https://localhost:8080/"
        },
        "id": "Lleb9iV46TBQ",
        "outputId": "a85f0e15-27e8-4050-ae92-eae78a9c656e"
      },
      "execution_count": null,
      "outputs": [
        {
          "output_type": "stream",
          "name": "stdout",
          "text": [
            "Requirement already satisfied: PyPDF2 in /usr/local/lib/python3.11/dist-packages (3.0.1)\n",
            "Drive already mounted at /content/drive; to attempt to forcibly remount, call drive.mount(\"/content/drive\", force_remount=True).\n"
          ]
        }
      ]
    },
    {
      "cell_type": "code",
      "source": [
        "from PyPDF2 import PdfReader, PdfWriter\n",
        "import os\n",
        "\n",
        "def split_pdf_by_size(input_path, max_size_mb=10):\n",
        "    output_folder = \"output_by_size\"\n",
        "    os.makedirs(output_folder, exist_ok=True)\n",
        "\n",
        "    reader = PdfReader(input_path)\n",
        "    total_pages = len(reader.pages)\n",
        "    part = 1\n",
        "    page_start = 0\n",
        "\n",
        "    while page_start < total_pages:\n",
        "        temp_writer = PdfWriter()\n",
        "        temp_pages = []\n",
        "        page_end = page_start\n",
        "\n",
        "        while page_end < total_pages:\n",
        "            temp_pages.append(reader.pages[page_end])\n",
        "            temp_writer.add_page(reader.pages[page_end])\n",
        "\n",
        "            temp_path = f\"{output_folder}/temp_test.pdf\"\n",
        "            with open(temp_path, \"wb\") as temp_file:\n",
        "                temp_writer.write(temp_file)\n",
        "\n",
        "            file_size_mb = os.path.getsize(temp_path) / (1024 * 1024)\n",
        "\n",
        "            if file_size_mb > max_size_mb:\n",
        "                temp_pages.pop()  # Bỏ trang vượt quá\n",
        "                break\n",
        "\n",
        "            page_end += 1\n",
        "\n",
        "        # Ghi phần an toàn vào file thật\n",
        "        writer = PdfWriter()\n",
        "        for page in temp_pages:\n",
        "            writer.add_page(page)\n",
        "\n",
        "        output_path = f\"{output_folder}/part_{part}.pdf\"\n",
        "        with open(output_path, \"wb\") as output_file:\n",
        "            writer.write(output_file)\n",
        "\n",
        "        print(f\"✅ Đã tạo {output_path} ({len(temp_pages)} trang)\")\n",
        "\n",
        "        part += 1\n",
        "        page_start = page_start + len(temp_pages)\n",
        "\n",
        "    # Xoá file tạm\n",
        "    try:\n",
        "        os.remove(f\"{output_folder}/temp_test.pdf\")\n",
        "    except:\n",
        "        pass\n",
        "\n",
        "    return output_folder\n"
      ],
      "metadata": {
        "id": "KsYhbNxQ69Mx"
      },
      "execution_count": null,
      "outputs": []
    },
    {
      "cell_type": "code",
      "source": [
        "# Gọi hàm thực hiện tách file PDF\n",
        "split_pdf_by_size(pdf_path, max_size_mb=10)\n",
        "\n",
        "# Tải các file đã tách về máy\n",
        "from google.colab import files\n",
        "for f in os.listdir(\"output_by_size\"):\n",
        "    if f.endswith(\".pdf\"):\n",
        "        files.download(f\"output_by_size/{f}\")\n"
      ],
      "metadata": {
        "colab": {
          "base_uri": "https://localhost:8080/",
          "height": 52
        },
        "id": "ZnR_KEPj8GsB",
        "outputId": "1eb50130-4673-4a73-d2b4-706f099d06a9"
      },
      "execution_count": null,
      "outputs": [
        {
          "output_type": "stream",
          "name": "stdout",
          "text": [
            "✅ Đã tạo output_by_size/part_1.pdf (2 trang)\n",
            "✅ Đã tạo output_by_size/part_2.pdf (172 trang)\n"
          ]
        },
        {
          "output_type": "display_data",
          "data": {
            "text/plain": [
              "<IPython.core.display.Javascript object>"
            ],
            "application/javascript": [
              "\n",
              "    async function download(id, filename, size) {\n",
              "      if (!google.colab.kernel.accessAllowed) {\n",
              "        return;\n",
              "      }\n",
              "      const div = document.createElement('div');\n",
              "      const label = document.createElement('label');\n",
              "      label.textContent = `Downloading \"${filename}\": `;\n",
              "      div.appendChild(label);\n",
              "      const progress = document.createElement('progress');\n",
              "      progress.max = size;\n",
              "      div.appendChild(progress);\n",
              "      document.body.appendChild(div);\n",
              "\n",
              "      const buffers = [];\n",
              "      let downloaded = 0;\n",
              "\n",
              "      const channel = await google.colab.kernel.comms.open(id);\n",
              "      // Send a message to notify the kernel that we're ready.\n",
              "      channel.send({})\n",
              "\n",
              "      for await (const message of channel.messages) {\n",
              "        // Send a message to notify the kernel that we're ready.\n",
              "        channel.send({})\n",
              "        if (message.buffers) {\n",
              "          for (const buffer of message.buffers) {\n",
              "            buffers.push(buffer);\n",
              "            downloaded += buffer.byteLength;\n",
              "            progress.value = downloaded;\n",
              "          }\n",
              "        }\n",
              "      }\n",
              "      const blob = new Blob(buffers, {type: 'application/binary'});\n",
              "      const a = document.createElement('a');\n",
              "      a.href = window.URL.createObjectURL(blob);\n",
              "      a.download = filename;\n",
              "      div.appendChild(a);\n",
              "      a.click();\n",
              "      div.remove();\n",
              "    }\n",
              "  "
            ]
          },
          "metadata": {}
        },
        {
          "output_type": "display_data",
          "data": {
            "text/plain": [
              "<IPython.core.display.Javascript object>"
            ],
            "application/javascript": [
              "download(\"download_bfa710ff-33dd-4793-b672-d54f242e7ba7\", \"part_2.pdf\", 9836785)"
            ]
          },
          "metadata": {}
        },
        {
          "output_type": "display_data",
          "data": {
            "text/plain": [
              "<IPython.core.display.Javascript object>"
            ],
            "application/javascript": [
              "\n",
              "    async function download(id, filename, size) {\n",
              "      if (!google.colab.kernel.accessAllowed) {\n",
              "        return;\n",
              "      }\n",
              "      const div = document.createElement('div');\n",
              "      const label = document.createElement('label');\n",
              "      label.textContent = `Downloading \"${filename}\": `;\n",
              "      div.appendChild(label);\n",
              "      const progress = document.createElement('progress');\n",
              "      progress.max = size;\n",
              "      div.appendChild(progress);\n",
              "      document.body.appendChild(div);\n",
              "\n",
              "      const buffers = [];\n",
              "      let downloaded = 0;\n",
              "\n",
              "      const channel = await google.colab.kernel.comms.open(id);\n",
              "      // Send a message to notify the kernel that we're ready.\n",
              "      channel.send({})\n",
              "\n",
              "      for await (const message of channel.messages) {\n",
              "        // Send a message to notify the kernel that we're ready.\n",
              "        channel.send({})\n",
              "        if (message.buffers) {\n",
              "          for (const buffer of message.buffers) {\n",
              "            buffers.push(buffer);\n",
              "            downloaded += buffer.byteLength;\n",
              "            progress.value = downloaded;\n",
              "          }\n",
              "        }\n",
              "      }\n",
              "      const blob = new Blob(buffers, {type: 'application/binary'});\n",
              "      const a = document.createElement('a');\n",
              "      a.href = window.URL.createObjectURL(blob);\n",
              "      a.download = filename;\n",
              "      div.appendChild(a);\n",
              "      a.click();\n",
              "      div.remove();\n",
              "    }\n",
              "  "
            ]
          },
          "metadata": {}
        },
        {
          "output_type": "display_data",
          "data": {
            "text/plain": [
              "<IPython.core.display.Javascript object>"
            ],
            "application/javascript": [
              "download(\"download_23fb208c-a74a-48ae-850c-313e4d915aee\", \"part_1.pdf\", 3219000)"
            ]
          },
          "metadata": {}
        }
      ]
    }
  ]
}